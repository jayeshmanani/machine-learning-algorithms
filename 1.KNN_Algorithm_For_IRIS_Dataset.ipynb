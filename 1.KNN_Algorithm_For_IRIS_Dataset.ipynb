{
  "nbformat": 4,
  "nbformat_minor": 0,
  "metadata": {
    "colab": {
      "name": "KNN Algorithm For IRIS Dataset.ipynb",
      "version": "0.3.2",
      "provenance": [],
      "include_colab_link": true
    },
    "kernelspec": {
      "name": "python3",
      "display_name": "Python 3"
    }
  },
  "cells": [
    {
      "cell_type": "markdown",
      "metadata": {
        "id": "view-in-github",
        "colab_type": "text"
      },
      "source": [
        "<a href=\"https://colab.research.google.com/github/jayeshmanani/machine-learning-algorithms/blob/master/KNN_Algorithm_For_IRIS_Dataset.ipynb\" target=\"_parent\"><img src=\"https://colab.research.google.com/assets/colab-badge.svg\" alt=\"Open In Colab\"/></a>"
      ]
    },
    {
      "cell_type": "markdown",
      "metadata": {
        "id": "KD5ccvmAGgqe",
        "colab_type": "text"
      },
      "source": [
        "### In this notebook I have demonstrated the use of KNN (K-Nearest Neighbour) Algorithm for Classification of IRIS Dataset based on Nearest Neighbour Algorithm."
      ]
    },
    {
      "cell_type": "code",
      "metadata": {
        "id": "oKZ2iMIbGQN_",
        "colab_type": "code",
        "colab": {}
      },
      "source": [
        "#Importing the necessary dataset module for the IRIS datasets\n",
        "from sklearn import datasets"
      ],
      "execution_count": 0,
      "outputs": []
    },
    {
      "cell_type": "code",
      "metadata": {
        "id": "FX3n8oleHK_c",
        "colab_type": "code",
        "colab": {}
      },
      "source": [
        "# Creating the bunch object which contains the iris datasets and its attributes\n",
        "iris = datasets.load_iris()"
      ],
      "execution_count": 0,
      "outputs": []
    },
    {
      "cell_type": "code",
      "metadata": {
        "id": "ItU7Pm5DHrhM",
        "colab_type": "code",
        "colab": {
          "base_uri": "https://localhost:8080/",
          "height": 35
        },
        "outputId": "02234cdf-e708-41a9-c7c8-7f43198e7a0a"
      },
      "source": [
        "type(iris)"
      ],
      "execution_count": 8,
      "outputs": [
        {
          "output_type": "execute_result",
          "data": {
            "text/plain": [
              "sklearn.utils.Bunch"
            ]
          },
          "metadata": {
            "tags": []
          },
          "execution_count": 8
        }
      ]
    },
    {
      "cell_type": "code",
      "metadata": {
        "id": "jCSupP2oHMKT",
        "colab_type": "code",
        "colab": {
          "base_uri": "https://localhost:8080/",
          "height": 1000
        },
        "outputId": "75986c95-1255-431f-f71b-32750228b14b"
      },
      "source": [
        "# printing the data in the iris bunnch object\n",
        "iris.data"
      ],
      "execution_count": 9,
      "outputs": [
        {
          "output_type": "execute_result",
          "data": {
            "text/plain": [
              "array([[5.1, 3.5, 1.4, 0.2],\n",
              "       [4.9, 3. , 1.4, 0.2],\n",
              "       [4.7, 3.2, 1.3, 0.2],\n",
              "       [4.6, 3.1, 1.5, 0.2],\n",
              "       [5. , 3.6, 1.4, 0.2],\n",
              "       [5.4, 3.9, 1.7, 0.4],\n",
              "       [4.6, 3.4, 1.4, 0.3],\n",
              "       [5. , 3.4, 1.5, 0.2],\n",
              "       [4.4, 2.9, 1.4, 0.2],\n",
              "       [4.9, 3.1, 1.5, 0.1],\n",
              "       [5.4, 3.7, 1.5, 0.2],\n",
              "       [4.8, 3.4, 1.6, 0.2],\n",
              "       [4.8, 3. , 1.4, 0.1],\n",
              "       [4.3, 3. , 1.1, 0.1],\n",
              "       [5.8, 4. , 1.2, 0.2],\n",
              "       [5.7, 4.4, 1.5, 0.4],\n",
              "       [5.4, 3.9, 1.3, 0.4],\n",
              "       [5.1, 3.5, 1.4, 0.3],\n",
              "       [5.7, 3.8, 1.7, 0.3],\n",
              "       [5.1, 3.8, 1.5, 0.3],\n",
              "       [5.4, 3.4, 1.7, 0.2],\n",
              "       [5.1, 3.7, 1.5, 0.4],\n",
              "       [4.6, 3.6, 1. , 0.2],\n",
              "       [5.1, 3.3, 1.7, 0.5],\n",
              "       [4.8, 3.4, 1.9, 0.2],\n",
              "       [5. , 3. , 1.6, 0.2],\n",
              "       [5. , 3.4, 1.6, 0.4],\n",
              "       [5.2, 3.5, 1.5, 0.2],\n",
              "       [5.2, 3.4, 1.4, 0.2],\n",
              "       [4.7, 3.2, 1.6, 0.2],\n",
              "       [4.8, 3.1, 1.6, 0.2],\n",
              "       [5.4, 3.4, 1.5, 0.4],\n",
              "       [5.2, 4.1, 1.5, 0.1],\n",
              "       [5.5, 4.2, 1.4, 0.2],\n",
              "       [4.9, 3.1, 1.5, 0.2],\n",
              "       [5. , 3.2, 1.2, 0.2],\n",
              "       [5.5, 3.5, 1.3, 0.2],\n",
              "       [4.9, 3.6, 1.4, 0.1],\n",
              "       [4.4, 3. , 1.3, 0.2],\n",
              "       [5.1, 3.4, 1.5, 0.2],\n",
              "       [5. , 3.5, 1.3, 0.3],\n",
              "       [4.5, 2.3, 1.3, 0.3],\n",
              "       [4.4, 3.2, 1.3, 0.2],\n",
              "       [5. , 3.5, 1.6, 0.6],\n",
              "       [5.1, 3.8, 1.9, 0.4],\n",
              "       [4.8, 3. , 1.4, 0.3],\n",
              "       [5.1, 3.8, 1.6, 0.2],\n",
              "       [4.6, 3.2, 1.4, 0.2],\n",
              "       [5.3, 3.7, 1.5, 0.2],\n",
              "       [5. , 3.3, 1.4, 0.2],\n",
              "       [7. , 3.2, 4.7, 1.4],\n",
              "       [6.4, 3.2, 4.5, 1.5],\n",
              "       [6.9, 3.1, 4.9, 1.5],\n",
              "       [5.5, 2.3, 4. , 1.3],\n",
              "       [6.5, 2.8, 4.6, 1.5],\n",
              "       [5.7, 2.8, 4.5, 1.3],\n",
              "       [6.3, 3.3, 4.7, 1.6],\n",
              "       [4.9, 2.4, 3.3, 1. ],\n",
              "       [6.6, 2.9, 4.6, 1.3],\n",
              "       [5.2, 2.7, 3.9, 1.4],\n",
              "       [5. , 2. , 3.5, 1. ],\n",
              "       [5.9, 3. , 4.2, 1.5],\n",
              "       [6. , 2.2, 4. , 1. ],\n",
              "       [6.1, 2.9, 4.7, 1.4],\n",
              "       [5.6, 2.9, 3.6, 1.3],\n",
              "       [6.7, 3.1, 4.4, 1.4],\n",
              "       [5.6, 3. , 4.5, 1.5],\n",
              "       [5.8, 2.7, 4.1, 1. ],\n",
              "       [6.2, 2.2, 4.5, 1.5],\n",
              "       [5.6, 2.5, 3.9, 1.1],\n",
              "       [5.9, 3.2, 4.8, 1.8],\n",
              "       [6.1, 2.8, 4. , 1.3],\n",
              "       [6.3, 2.5, 4.9, 1.5],\n",
              "       [6.1, 2.8, 4.7, 1.2],\n",
              "       [6.4, 2.9, 4.3, 1.3],\n",
              "       [6.6, 3. , 4.4, 1.4],\n",
              "       [6.8, 2.8, 4.8, 1.4],\n",
              "       [6.7, 3. , 5. , 1.7],\n",
              "       [6. , 2.9, 4.5, 1.5],\n",
              "       [5.7, 2.6, 3.5, 1. ],\n",
              "       [5.5, 2.4, 3.8, 1.1],\n",
              "       [5.5, 2.4, 3.7, 1. ],\n",
              "       [5.8, 2.7, 3.9, 1.2],\n",
              "       [6. , 2.7, 5.1, 1.6],\n",
              "       [5.4, 3. , 4.5, 1.5],\n",
              "       [6. , 3.4, 4.5, 1.6],\n",
              "       [6.7, 3.1, 4.7, 1.5],\n",
              "       [6.3, 2.3, 4.4, 1.3],\n",
              "       [5.6, 3. , 4.1, 1.3],\n",
              "       [5.5, 2.5, 4. , 1.3],\n",
              "       [5.5, 2.6, 4.4, 1.2],\n",
              "       [6.1, 3. , 4.6, 1.4],\n",
              "       [5.8, 2.6, 4. , 1.2],\n",
              "       [5. , 2.3, 3.3, 1. ],\n",
              "       [5.6, 2.7, 4.2, 1.3],\n",
              "       [5.7, 3. , 4.2, 1.2],\n",
              "       [5.7, 2.9, 4.2, 1.3],\n",
              "       [6.2, 2.9, 4.3, 1.3],\n",
              "       [5.1, 2.5, 3. , 1.1],\n",
              "       [5.7, 2.8, 4.1, 1.3],\n",
              "       [6.3, 3.3, 6. , 2.5],\n",
              "       [5.8, 2.7, 5.1, 1.9],\n",
              "       [7.1, 3. , 5.9, 2.1],\n",
              "       [6.3, 2.9, 5.6, 1.8],\n",
              "       [6.5, 3. , 5.8, 2.2],\n",
              "       [7.6, 3. , 6.6, 2.1],\n",
              "       [4.9, 2.5, 4.5, 1.7],\n",
              "       [7.3, 2.9, 6.3, 1.8],\n",
              "       [6.7, 2.5, 5.8, 1.8],\n",
              "       [7.2, 3.6, 6.1, 2.5],\n",
              "       [6.5, 3.2, 5.1, 2. ],\n",
              "       [6.4, 2.7, 5.3, 1.9],\n",
              "       [6.8, 3. , 5.5, 2.1],\n",
              "       [5.7, 2.5, 5. , 2. ],\n",
              "       [5.8, 2.8, 5.1, 2.4],\n",
              "       [6.4, 3.2, 5.3, 2.3],\n",
              "       [6.5, 3. , 5.5, 1.8],\n",
              "       [7.7, 3.8, 6.7, 2.2],\n",
              "       [7.7, 2.6, 6.9, 2.3],\n",
              "       [6. , 2.2, 5. , 1.5],\n",
              "       [6.9, 3.2, 5.7, 2.3],\n",
              "       [5.6, 2.8, 4.9, 2. ],\n",
              "       [7.7, 2.8, 6.7, 2. ],\n",
              "       [6.3, 2.7, 4.9, 1.8],\n",
              "       [6.7, 3.3, 5.7, 2.1],\n",
              "       [7.2, 3.2, 6. , 1.8],\n",
              "       [6.2, 2.8, 4.8, 1.8],\n",
              "       [6.1, 3. , 4.9, 1.8],\n",
              "       [6.4, 2.8, 5.6, 2.1],\n",
              "       [7.2, 3. , 5.8, 1.6],\n",
              "       [7.4, 2.8, 6.1, 1.9],\n",
              "       [7.9, 3.8, 6.4, 2. ],\n",
              "       [6.4, 2.8, 5.6, 2.2],\n",
              "       [6.3, 2.8, 5.1, 1.5],\n",
              "       [6.1, 2.6, 5.6, 1.4],\n",
              "       [7.7, 3. , 6.1, 2.3],\n",
              "       [6.3, 3.4, 5.6, 2.4],\n",
              "       [6.4, 3.1, 5.5, 1.8],\n",
              "       [6. , 3. , 4.8, 1.8],\n",
              "       [6.9, 3.1, 5.4, 2.1],\n",
              "       [6.7, 3.1, 5.6, 2.4],\n",
              "       [6.9, 3.1, 5.1, 2.3],\n",
              "       [5.8, 2.7, 5.1, 1.9],\n",
              "       [6.8, 3.2, 5.9, 2.3],\n",
              "       [6.7, 3.3, 5.7, 2.5],\n",
              "       [6.7, 3. , 5.2, 2.3],\n",
              "       [6.3, 2.5, 5. , 1.9],\n",
              "       [6.5, 3. , 5.2, 2. ],\n",
              "       [6.2, 3.4, 5.4, 2.3],\n",
              "       [5.9, 3. , 5.1, 1.8]])"
            ]
          },
          "metadata": {
            "tags": []
          },
          "execution_count": 9
        }
      ]
    },
    {
      "cell_type": "code",
      "metadata": {
        "id": "wD5mLTSPHMo7",
        "colab_type": "code",
        "colab": {
          "base_uri": "https://localhost:8080/",
          "height": 87
        },
        "outputId": "9403dde1-4ec1-46bc-e039-e5fc94531ee9"
      },
      "source": [
        "# printing the feature name of the datasets\n",
        "iris.feature_names"
      ],
      "execution_count": 11,
      "outputs": [
        {
          "output_type": "execute_result",
          "data": {
            "text/plain": [
              "['sepal length (cm)',\n",
              " 'sepal width (cm)',\n",
              " 'petal length (cm)',\n",
              " 'petal width (cm)']"
            ]
          },
          "metadata": {
            "tags": []
          },
          "execution_count": 11
        }
      ]
    },
    {
      "cell_type": "code",
      "metadata": {
        "id": "WAPjmwsbJApB",
        "colab_type": "code",
        "colab": {
          "base_uri": "https://localhost:8080/",
          "height": 35
        },
        "outputId": "396aeb50-46bb-4024-a6f5-c34fc0d962bd"
      },
      "source": [
        "# printing the classes of the target values\n",
        "iris.target_names"
      ],
      "execution_count": 12,
      "outputs": [
        {
          "output_type": "execute_result",
          "data": {
            "text/plain": [
              "array(['setosa', 'versicolor', 'virginica'], dtype='<U10')"
            ]
          },
          "metadata": {
            "tags": []
          },
          "execution_count": 12
        }
      ]
    },
    {
      "cell_type": "code",
      "metadata": {
        "id": "ch33BdFnJJzA",
        "colab_type": "code",
        "colab": {
          "base_uri": "https://localhost:8080/",
          "height": 139
        },
        "outputId": "a2aa8cc7-542d-4485-b151-e17b2bdd9681"
      },
      "source": [
        "# here it's the target variables where, 0 is setosa, 1 is for versicolor, and 2 is for virginica\n",
        "iris.target"
      ],
      "execution_count": 13,
      "outputs": [
        {
          "output_type": "execute_result",
          "data": {
            "text/plain": [
              "array([0, 0, 0, 0, 0, 0, 0, 0, 0, 0, 0, 0, 0, 0, 0, 0, 0, 0, 0, 0, 0, 0,\n",
              "       0, 0, 0, 0, 0, 0, 0, 0, 0, 0, 0, 0, 0, 0, 0, 0, 0, 0, 0, 0, 0, 0,\n",
              "       0, 0, 0, 0, 0, 0, 1, 1, 1, 1, 1, 1, 1, 1, 1, 1, 1, 1, 1, 1, 1, 1,\n",
              "       1, 1, 1, 1, 1, 1, 1, 1, 1, 1, 1, 1, 1, 1, 1, 1, 1, 1, 1, 1, 1, 1,\n",
              "       1, 1, 1, 1, 1, 1, 1, 1, 1, 1, 1, 1, 2, 2, 2, 2, 2, 2, 2, 2, 2, 2,\n",
              "       2, 2, 2, 2, 2, 2, 2, 2, 2, 2, 2, 2, 2, 2, 2, 2, 2, 2, 2, 2, 2, 2,\n",
              "       2, 2, 2, 2, 2, 2, 2, 2, 2, 2, 2, 2, 2, 2, 2, 2, 2, 2])"
            ]
          },
          "metadata": {
            "tags": []
          },
          "execution_count": 13
        }
      ]
    },
    {
      "cell_type": "code",
      "metadata": {
        "id": "0wwVtpzvJN4A",
        "colab_type": "code",
        "colab": {
          "base_uri": "https://localhost:8080/",
          "height": 52
        },
        "outputId": "c7033f14-d351-4dc8-c9f0-afc5593647b8"
      },
      "source": [
        "print(type(iris.data))\n",
        "print(type(iris.target))"
      ],
      "execution_count": 14,
      "outputs": [
        {
          "output_type": "stream",
          "text": [
            "<class 'numpy.ndarray'>\n",
            "<class 'numpy.ndarray'>\n"
          ],
          "name": "stdout"
        }
      ]
    },
    {
      "cell_type": "code",
      "metadata": {
        "id": "s6fCnRLcJjbu",
        "colab_type": "code",
        "colab": {
          "base_uri": "https://localhost:8080/",
          "height": 35
        },
        "outputId": "7da12c9a-5740-4a82-c0b2-672dea9aed2e"
      },
      "source": [
        "# we have 150 observations which 4 features\n",
        "iris.data.shape"
      ],
      "execution_count": 15,
      "outputs": [
        {
          "output_type": "execute_result",
          "data": {
            "text/plain": [
              "(150, 4)"
            ]
          },
          "metadata": {
            "tags": []
          },
          "execution_count": 15
        }
      ]
    },
    {
      "cell_type": "code",
      "metadata": {
        "id": "UCYhDxMfK28U",
        "colab_type": "code",
        "colab": {}
      },
      "source": [
        "# stoeing the train and target values to X and y\n",
        "X = iris.data\n",
        "y = iris.target"
      ],
      "execution_count": 0,
      "outputs": []
    },
    {
      "cell_type": "code",
      "metadata": {
        "id": "VR1kES9eLrcn",
        "colab_type": "code",
        "colab": {}
      },
      "source": [
        "# converting the integer values to the string which have perfect names as per class\n",
        "y_new = []\n",
        "for i in y:\n",
        "  if i==0:\n",
        "    y_new.append(\"Setosa\")\n",
        "  elif i==1:\n",
        "    y_new.append(\"Versicolor\")\n",
        "  else:\n",
        "    y_new.append(\"Virginica\")"
      ],
      "execution_count": 0,
      "outputs": []
    },
    {
      "cell_type": "code",
      "metadata": {
        "id": "CcJ754s8Jphf",
        "colab_type": "code",
        "colab": {}
      },
      "source": [
        "# split the data into train and test sets using sci-kit learn train_test_split (80%:20%)\n",
        "from sklearn.model_selection import train_test_split\n",
        "\n",
        "X_train, X_test, y_train, y_test = train_test_split(X, y_new, test_size=0.34, random_state=4)"
      ],
      "execution_count": 0,
      "outputs": []
    },
    {
      "cell_type": "code",
      "metadata": {
        "id": "2y8UQBuWP0Am",
        "colab_type": "code",
        "colab": {}
      },
      "source": [
        "# appending the train and test set which consist of the train set as well as target values\n",
        "XX = []\n",
        "for i,j in zip(X_train,y_train):\n",
        "  XX.append(list(i)+[j])\n",
        "YY = []\n",
        "for i,j in zip(X_test,y_test):\n",
        "  YY.append(list(i)+[j])"
      ],
      "execution_count": 0,
      "outputs": []
    },
    {
      "cell_type": "code",
      "metadata": {
        "id": "hvoRwY-aKJsN",
        "colab_type": "code",
        "colab": {
          "base_uri": "https://localhost:8080/",
          "height": 52
        },
        "outputId": "1cadb438-fdb6-409a-8eee-4138a5bc5bae"
      },
      "source": [
        "# shape of the train and test datasets\n",
        "print(X_train.shape)\n",
        "print(X_test.shape)"
      ],
      "execution_count": 30,
      "outputs": [
        {
          "output_type": "stream",
          "text": [
            "(98, 4)\n",
            "(52, 4)\n"
          ],
          "name": "stdout"
        }
      ]
    },
    {
      "cell_type": "code",
      "metadata": {
        "id": "XF-hDxp_OBfn",
        "colab_type": "code",
        "colab": {}
      },
      "source": [
        "import math"
      ],
      "execution_count": 0,
      "outputs": []
    },
    {
      "cell_type": "code",
      "metadata": {
        "id": "oxeeY9l_OJs0",
        "colab_type": "code",
        "colab": {}
      },
      "source": [
        "# defining the function for calculating the euclidian distance between the pairs of the input\n",
        "def euclideanDistance(inst1, inst2, length):\n",
        "  distance = 0\n",
        "  for x in range(length):\n",
        "    distance+= pow((inst1[x]-inst2[x]),2)\n",
        "  return math.sqrt(distance)"
      ],
      "execution_count": 0,
      "outputs": []
    },
    {
      "cell_type": "code",
      "metadata": {
        "id": "WVXTftmfO6Mx",
        "colab_type": "code",
        "colab": {}
      },
      "source": [
        "import operator"
      ],
      "execution_count": 0,
      "outputs": []
    },
    {
      "cell_type": "code",
      "metadata": {
        "id": "-74QkrESPP2g",
        "colab_type": "code",
        "colab": {}
      },
      "source": [
        "# defining the function for calculating the nearest neighbour according to the euclidean distance\n",
        "def getNeighbours(trainSet, testInstance, k):\n",
        "  distances = []\n",
        "  length = len(testInstance)-1\n",
        "  for x in range(len(trainSet)):\n",
        "    dist = euclideanDistance(testInstance, trainSet[x], length)\n",
        "    distances.append((trainSet[x], dist))\n",
        "  distances.sort(key=operator.itemgetter(1))\n",
        "  neighbours = []\n",
        "  for x in range(k):\n",
        "    neighbours.append(distances[x][0])\n",
        "    return neighbours"
      ],
      "execution_count": 0,
      "outputs": []
    },
    {
      "cell_type": "code",
      "metadata": {
        "id": "FpDKqAUsVt2i",
        "colab_type": "code",
        "colab": {}
      },
      "source": [
        "# defining the function for getting the k nearest pairs of the neighbours and accordingly predict the target value for the given input pairs\n",
        "def getResponse(neighbours):\n",
        "  classVote = {}\n",
        "  for x in range(len(neighbours)):\n",
        "    response = neighbours[x][-1]\n",
        "    if response in classVote:\n",
        "      classVote[response]+=1\n",
        "    else:\n",
        "      classVote[response] = 1\n",
        "      \n",
        "  sortedVotes = sorted(classVote.items(), key=operator.itemgetter(1), reverse =True)\n",
        "  return sortedVotes[0][0]"
      ],
      "execution_count": 0,
      "outputs": []
    },
    {
      "cell_type": "code",
      "metadata": {
        "id": "sfeEW6buWsh-",
        "colab_type": "code",
        "colab": {}
      },
      "source": [
        "# defining the function for calculating the accuracy of the model \n",
        "def getAccuracy(testSet, predictions):\n",
        "  correct = 0\n",
        "  for x in range(len(testSet)):\n",
        "    if testSet[x][-1] is predictions[x]:\n",
        "      correct+=1\n",
        "  return (correct/float(len(testSet)))*100.0"
      ],
      "execution_count": 0,
      "outputs": []
    },
    {
      "cell_type": "code",
      "metadata": {
        "id": "LjPam7geXQ7t",
        "colab_type": "code",
        "colab": {
          "base_uri": "https://localhost:8080/",
          "height": 936
        },
        "outputId": "b19ce100-9849-4a67-d0b3-4e923d233f56"
      },
      "source": [
        "# running the test on the data and checking the accuracy of the model which gives around 96% of accurate responses for classifying the iris dataset \n",
        "preds = []\n",
        "k =3\n",
        "for x in range(len(YY)):\n",
        "  neighbours = getNeighbours(XX, YY[x], k)\n",
        "  result = getResponse(neighbours)\n",
        "  preds.append(result)\n",
        "  print(\"predicted = \"+ repr(result) +\" , actual = \"+repr(YY[x][-1]))\n",
        "accuracy = getAccuracy(YY, preds)\n",
        "print(\"Accuracy = \"+repr(accuracy)+\"%\")"
      ],
      "execution_count": 120,
      "outputs": [
        {
          "output_type": "stream",
          "text": [
            "predicted = 'Virginica' , actual = 'Virginica'\n",
            "predicted = 'Setosa' , actual = 'Setosa'\n",
            "predicted = 'Virginica' , actual = 'Virginica'\n",
            "predicted = 'Virginica' , actual = 'Virginica'\n",
            "predicted = 'Virginica' , actual = 'Virginica'\n",
            "predicted = 'Versicolor' , actual = 'Versicolor'\n",
            "predicted = 'Virginica' , actual = 'Versicolor'\n",
            "predicted = 'Setosa' , actual = 'Setosa'\n",
            "predicted = 'Setosa' , actual = 'Setosa'\n",
            "predicted = 'Versicolor' , actual = 'Virginica'\n",
            "predicted = 'Setosa' , actual = 'Setosa'\n",
            "predicted = 'Setosa' , actual = 'Setosa'\n",
            "predicted = 'Setosa' , actual = 'Setosa'\n",
            "predicted = 'Versicolor' , actual = 'Versicolor'\n",
            "predicted = 'Virginica' , actual = 'Virginica'\n",
            "predicted = 'Setosa' , actual = 'Setosa'\n",
            "predicted = 'Versicolor' , actual = 'Versicolor'\n",
            "predicted = 'Setosa' , actual = 'Setosa'\n",
            "predicted = 'Setosa' , actual = 'Setosa'\n",
            "predicted = 'Virginica' , actual = 'Virginica'\n",
            "predicted = 'Setosa' , actual = 'Setosa'\n",
            "predicted = 'Virginica' , actual = 'Virginica'\n",
            "predicted = 'Versicolor' , actual = 'Versicolor'\n",
            "predicted = 'Setosa' , actual = 'Setosa'\n",
            "predicted = 'Setosa' , actual = 'Setosa'\n",
            "predicted = 'Setosa' , actual = 'Setosa'\n",
            "predicted = 'Setosa' , actual = 'Setosa'\n",
            "predicted = 'Setosa' , actual = 'Setosa'\n",
            "predicted = 'Setosa' , actual = 'Setosa'\n",
            "predicted = 'Virginica' , actual = 'Virginica'\n",
            "predicted = 'Versicolor' , actual = 'Versicolor'\n",
            "predicted = 'Setosa' , actual = 'Setosa'\n",
            "predicted = 'Virginica' , actual = 'Virginica'\n",
            "predicted = 'Setosa' , actual = 'Setosa'\n",
            "predicted = 'Versicolor' , actual = 'Versicolor'\n",
            "predicted = 'Virginica' , actual = 'Virginica'\n",
            "predicted = 'Virginica' , actual = 'Virginica'\n",
            "predicted = 'Versicolor' , actual = 'Versicolor'\n",
            "predicted = 'Versicolor' , actual = 'Versicolor'\n",
            "predicted = 'Setosa' , actual = 'Setosa'\n",
            "predicted = 'Virginica' , actual = 'Virginica'\n",
            "predicted = 'Setosa' , actual = 'Setosa'\n",
            "predicted = 'Versicolor' , actual = 'Versicolor'\n",
            "predicted = 'Setosa' , actual = 'Setosa'\n",
            "predicted = 'Virginica' , actual = 'Virginica'\n",
            "predicted = 'Setosa' , actual = 'Setosa'\n",
            "predicted = 'Setosa' , actual = 'Setosa'\n",
            "predicted = 'Versicolor' , actual = 'Versicolor'\n",
            "predicted = 'Versicolor' , actual = 'Versicolor'\n",
            "predicted = 'Virginica' , actual = 'Virginica'\n",
            "predicted = 'Setosa' , actual = 'Setosa'\n",
            "predicted = 'Versicolor' , actual = 'Versicolor'\n",
            "Accuracy = 96.15384615384616%\n"
          ],
          "name": "stdout"
        }
      ]
    },
    {
      "cell_type": "code",
      "metadata": {
        "id": "1-yNCJGHY2Ct",
        "colab_type": "code",
        "colab": {}
      },
      "source": [
        ""
      ],
      "execution_count": 0,
      "outputs": []
    }
  ]
}
